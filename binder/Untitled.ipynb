{
 "cells": [
  {
   "cell_type": "markdown",
   "id": "charming-leather",
   "metadata": {},
   "source": [
    "### This Python 3 notebook extracts images of a Gallica document (using the IIIF protocol), and then applies object detection to the images\n",
    "1. Extract the document technical image metadata from its IIIF manifest,\n",
    "2. Load the IIIF images,\n",
    "3. Apply a yolo model.\n"
   ]
  },
  {
   "cell_type": "code",
   "execution_count": 2,
   "id": "difficult-kenya",
   "metadata": {},
   "outputs": [
    {
     "name": "stdout",
     "output_type": "stream",
     "text": [
      "Python version\n",
      "3.8.7 (v3.8.7:6503f05dd5, Dec 21 2020, 12:45:15) \n",
      "[Clang 6.0 (clang-600.0.57)]\n"
     ]
    }
   ],
   "source": [
    "import sys\n",
    "import cv2\n",
    "import os, fnmatch\n",
    "from collections import namedtuple\n",
    "import csv\n",
    "import time\n",
    "\n",
    "# insert here the Gallica document ID you want to process\n",
    "docID = '12148/bpt6k46000341' # quotidien\n",
    "#docID = '12148/btv1b6931954n' # photo\n",
    "#docID = '12148/btv1b10336854c' # album\n",
    "#docID = '12148/btv1b10544068q' # estampe\n",
    "#docID = '12148/bpt6k65414058' # Vogue magazine\n",
    "\n",
    "# IIIF export factor (%)\n",
    "doc_export_factor = 10\n",
    "# get docMax first images from the document\n",
    "doc_max = 2\n",
    "# data export\n",
    "output = \"OUT_csv\"\n",
    "output_img = \"OUT_img\"\n",
    "\n",
    "# minimum confidence score to keep the detections\n",
    "min_confidence = 0.20\n",
    "# threshold when applying non-maxima suppression\n",
    "threshold = 0.30\n",
    "\n",
    "print(\"Python version\")\n",
    "print (sys.version)"
   ]
  },
  {
   "cell_type": "code",
   "execution_count": 3,
   "id": "remarkable-height",
   "metadata": {},
   "outputs": [
    {
     "name": "stdout",
     "output_type": "stream",
     "text": [
      "\n",
      "  Creating .csv directory OUT_csv...\n",
      "\n",
      "... CSV files will be saved to OUT_csv\n",
      "\n",
      "  Creating img directory OUT_img...\n",
      "\n",
      "... images files will be saved to OUT_img\n",
      "\n"
     ]
    }
   ],
   "source": [
    "########## CSV output #############\n",
    "output_dir = os.path.realpath(output)\n",
    "if not os.path.isdir(output_dir):\n",
    "\tprint(f\"\\n  Creating .csv directory {output}...\")\n",
    "\tos.mkdir(output_dir);\n",
    "\n",
    "print (f\"\\n... CSV files will be saved to {output}\")\n",
    "\n",
    "########## Images output #############\n",
    "output_img_dir = os.path.realpath(output_img)\n",
    "if not os.path.isdir(output_img_dir):\n",
    "\tprint(f\"\\n  Creating img directory {output_img}...\")\n",
    "\tos.mkdir(output_img_dir);\n",
    "\n",
    "print (f\"\\n... images files will be saved to {output_img}\\n\")"
   ]
  },
  {
   "cell_type": "markdown",
   "id": "selected-treat",
   "metadata": {},
   "source": [
    "### 1. We first build the IIIF manifest URL and call the API"
   ]
  },
  {
   "cell_type": "code",
   "execution_count": 5,
   "id": "dental-primary",
   "metadata": {},
   "outputs": [
    {
     "name": "stdout",
     "output_type": "stream",
     "text": [
      "... getting the IIIF manifest https://gallica.bnf.fr/iiif/ark:/12148/bpt6k46000341/manifest.json\n",
      "dict_keys(['@id', 'label', 'attribution', 'license', 'logo', 'related', 'seeAlso', 'description', 'metadata', 'sequences', 'thumbnail', '@type', '@context'])\n"
     ]
    }
   ],
   "source": [
    "import requests\n",
    "\n",
    "METADATA_BASEURL = 'https://gallica.bnf.fr/iiif/ark:/'\n",
    "req_url = \"\".join([METADATA_BASEURL, docID, '/manifest.json'])\n",
    "print (\"... getting the IIIF manifest\",req_url)\n",
    "# we ask for the IIIF manifest. The call returns a dictionary\n",
    "r = requests.get(req_url)\n",
    "r.raise_for_status()\n",
    "json_4img = r.json()\n",
    "print (json_4img.keys())\n"
   ]
  },
  {
   "cell_type": "markdown",
   "id": "athletic-swaziland",
   "metadata": {},
   "source": [
    "### 2. Now we load the images files thanks to the IIIF API Image protocol"
   ]
  },
  {
   "cell_type": "code",
   "execution_count": 6,
   "id": "middle-publicity",
   "metadata": {},
   "outputs": [
    {
     "name": "stdout",
     "output_type": "stream",
     "text": [
      "dict_keys(['canvases', 'label', '@type', '@id'])\n"
     ]
    }
   ],
   "source": [
    "from iiif_api import IIIF #  get the image files with the IIIF Image API (PyGallica package again)\n",
    "\n",
    "# get the sequence of images metadata. It's a list\n",
    "sequences = json_4img.get('sequences')\n",
    "# get the canvases, first element of the list. Its a dict\n",
    "canvases = sequences[0]\n",
    "print (canvases.keys())"
   ]
  },
  {
   "cell_type": "code",
   "execution_count": null,
   "id": "molecular-phrase",
   "metadata": {},
   "outputs": [],
   "source": []
  }
 ],
 "metadata": {
  "kernelspec": {
   "display_name": "Python 3",
   "language": "python",
   "name": "python3"
  },
  "language_info": {
   "codemirror_mode": {
    "name": "ipython",
    "version": 3
   },
   "file_extension": ".py",
   "mimetype": "text/x-python",
   "name": "python",
   "nbconvert_exporter": "python",
   "pygments_lexer": "ipython3",
   "version": "3.8.7"
  }
 },
 "nbformat": 4,
 "nbformat_minor": 5
}
